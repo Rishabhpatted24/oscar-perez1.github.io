{
 "cells": [
  {
   "cell_type": "code",
   "execution_count": 1,
   "metadata": {},
   "outputs": [],
   "source": [
    "import torch\n",
    "import torch.nn as nn\n",
    "import torch.nn.functional as F\n",
    "import torch.optim as optim\n",
    "from torch.utils.data import Dataset, DataLoader\n",
    "import pandas as pd\n",
    "import os\n",
    "import pickle\n",
    "import matplotlib.pyplot as plt\n",
    "from tqdm import tqdm\n",
    "import numpy as np\n",
    "import cv2\n",
    "import random"
   ]
  },
  {
   "cell_type": "code",
   "execution_count": 2,
   "metadata": {},
   "outputs": [],
   "source": [
    "def get_random_crop(image, crop_height, crop_width):\n",
    "    \n",
    "    max_x = image.shape[1] - crop_width\n",
    "    max_y = image.shape[0] - crop_height\n",
    "    \n",
    "    x = np.random.randint(0, max_x)\n",
    "    y = np.random.randint(0, max_y)\n",
    "\n",
    "    crop = image[y: y + crop_height, x: x + crop_width]\n",
    "\n",
    "    return crop"
   ]
  },
  {
   "cell_type": "code",
   "execution_count": 3,
   "metadata": {},
   "outputs": [],
   "source": [
    "class XRayCNNDataset(Dataset):\n",
    "    # root_dir example: r'D:xray/cnn/train'\n",
    "    # annotation_file example: r'train.csv'\n",
    "    def __init__(self, root_dir, annotation_file, augment=0):\n",
    "        self.root_dir = root_dir\n",
    "        self.annotations = pd.read_csv(annotation_file)\n",
    "        self.augment = augment\n",
    "    \n",
    "    def __len__(self):\n",
    "        return len(self.annotations)\n",
    "    \n",
    "    def __getitem__(self, index):\n",
    "        file_name = self.annotations._get_value(index, 'image_id')\n",
    "        label = self.annotations._get_value(index, 'class_id')\n",
    "        file = open(os.path.join(self.root_dir, file_name), 'rb')\n",
    "#         img = pickle.load(file)\n",
    "#         img = cv2.resize(img, dsize=(32, 32), interpolation=cv2.INTER_CUBIC)\n",
    "#         img = np.array([img.copy(), img.copy(), img.copy()])\n",
    "        img = pickle.load(file)\n",
    "        if self.augment == 1:\n",
    "            if random.random() < 0.5:\n",
    "                np.fliplr(img)\n",
    "            if random.random() < 0.5:\n",
    "                img = cv2.copyMakeBorder(img, 4, 4, 4, 4, cv2.BORDER_REFLECT)\n",
    "                img = get_random_crop(img, 64, 64)\n",
    "        img = np.array([img])\n",
    "\n",
    "        file.close()\n",
    "        img = img.astype('float32')\n",
    "        return (img, label)"
   ]
  },
  {
   "cell_type": "code",
   "execution_count": 4,
   "metadata": {},
   "outputs": [],
   "source": [
    "def get_data(batch_size=128):\n",
    "    trainset = XRayCNNDataset(r'newTrain', 'newTrain.csv', augment=1)\n",
    "    trainloader  = DataLoader(trainset, batch_size=batch_size, shuffle=True)\n",
    "    \n",
    "    vset = XRayCNNDataset(r'valid', 'valid.csv')\n",
    "    vloader  = DataLoader(vset, batch_size=batch_size, shuffle=False)\n",
    "    \n",
    "    testset = XRayCNNDataset(r'test', 'test.csv')\n",
    "    testloader  = DataLoader(testset, batch_size=batch_size, shuffle=False)\n",
    "    \n",
    "    classes = ['Aortic enlargement', 'Atelectasis', 'Calcification', 'Cardiomegaly',\n",
    "               'Consolidation', 'ILD', 'Inflitration', 'Lung Opacity', 'Nodule/Mass', 'Other lesion',\n",
    "               'Pleural effusion', 'Pleural thickening', 'Pneumothorax', 'Pulmonary fibrosis']\n",
    "    return {'train': trainloader, 'test': testloader, 'valid': vloader, 'classes': classes}\n",
    "\n",
    "device = torch.device(\"cuda:0\" if torch.cuda.is_available() else \"cpu\")\n",
    "data = get_data()"
   ]
  },
  {
   "cell_type": "code",
   "execution_count": 5,
   "metadata": {},
   "outputs": [],
   "source": [
    "def train(net, dataloader, epochs=1, lr=0.01, momentum=0.9, decay=0.0, verbose=0):\n",
    "    net.to(device)\n",
    "    losses = []\n",
    "    criterion = nn.CrossEntropyLoss()\n",
    "    optimizer = optim.SGD(net.parameters(), lr=lr, momentum=momentum, weight_decay=decay)\n",
    "    for epoch in tqdm(range(epochs)):\n",
    "        sum_loss = 0.0\n",
    "        for i, batch in enumerate(dataloader, 0):\n",
    "            # get the inputs; data is a list of [inputs, labels]\n",
    "            inputs, labels = batch[0].to(device), batch[1].to(device)\n",
    "            # zero the parameter gradients\n",
    "            optimizer.zero_grad()\n",
    "\n",
    "            # forward + backward + optimize \n",
    "            outputs = net(inputs)\n",
    "            loss = criterion(outputs, labels)\n",
    "            loss.backward()  # autograd magic, computes all the partial derivatives\n",
    "            optimizer.step() # takes a step in gradient direction\n",
    "\n",
    "            # print statistics\n",
    "            losses.append(loss.item())\n",
    "            sum_loss += loss.item()\n",
    "            if i % 100 == 99:    # print every 100 mini-batches\n",
    "                if verbose:\n",
    "                    print('[%d, %5d] loss: %.3f' %\n",
    "                        (epoch + 1, i + 1, sum_loss / 100))\n",
    "                sum_loss = 0.0\n",
    "    return losses\n",
    "\n",
    "def accuracy(net, dataloader):\n",
    "    correct = 0\n",
    "    total = 0\n",
    "    with torch.no_grad():\n",
    "        for batch in dataloader:\n",
    "            images, labels = batch[0].to(device), batch[1].to(device)\n",
    "            outputs = net(images)\n",
    "            _, predicted = torch.max(outputs.data, 1)\n",
    "            total += labels.size(0)\n",
    "            correct += (predicted == labels).sum().item()\n",
    "    return correct/total\n",
    "\n",
    "def smooth(x, size):\n",
    "    return np.convolve(x, np.ones(size)/size, mode='valid')\n",
    "\n",
    "def anneal(net, data, startingLR=0.001, epochsPerLR=10, momentum=0.9, decay=0.0, numAnnealing=3, verbose=0):\n",
    "    losses = []\n",
    "    lr = startingLR\n",
    "    for i in range(numAnnealing):\n",
    "        losses += train(net, data, epochsPerLR, lr=lr, momentum=momentum, decay=decay, verbose=verbose)\n",
    "        lr /= 10\n",
    "    return losses"
   ]
  },
  {
   "cell_type": "code",
   "execution_count": 6,
   "metadata": {},
   "outputs": [],
   "source": [
    "class CustomNet5(nn.Module):\n",
    "    def __init__(self):\n",
    "        super(CustomNet5, self).__init__() # https://pytorch.org/docs/stable/generated/torch.nn.Conv2d.html\n",
    "        # Input 64x64x1 image\n",
    "        # 16 filters\n",
    "        # 3x3 filter size (they also have 3 channels)\n",
    "        # stride 2 (downsampling by factor of 2)\n",
    "        # Output image: 32x32x16\n",
    "        self.conv1 = nn.Conv2d(1, 16, 5, stride=2, padding=1)\n",
    "        self.bn1 = nn.BatchNorm2d(16)\n",
    "        # Input 32x32x16 image\n",
    "        # 32 filters\n",
    "        # 3x3x16 filter size (they also have 16 channels)\n",
    "        # stride 2 (downsampling by factor of 2)\n",
    "        # Output image: 16x16x32\n",
    "        self.conv2 = nn.Conv2d(16, 32, 3, stride=2, padding=1)\n",
    "        self.bn2 = nn.BatchNorm2d(32)\n",
    "\n",
    "        # Exercise left to the reader\n",
    "        # Output image: 8x8x64 -> 1024 neurons\n",
    "        self.conv3 = nn.Conv2d(32, 64, 3, stride=2, padding=1)\n",
    "        self.bn3 = nn.BatchNorm2d(64)\n",
    "        \n",
    "        # Exercise left to the reader\n",
    "        # Output image: 8x8x128 -> 2048 neurons\n",
    "        self.conv4 = nn.Conv2d(64, 128, 3, stride=1, padding=1)\n",
    "        self.bn4 = nn.BatchNorm2d(128)\n",
    "        \n",
    "        self.fc1 = nn.Linear(8192, 14)\n",
    "\n",
    "    def forward(self, x):\n",
    "        x = self.conv1(x)\n",
    "        x = self.bn1(x)\n",
    "        x = F.relu(x)\n",
    "        x = self.conv2(x)\n",
    "        x = self.bn2(x)\n",
    "        x = F.relu(x)\n",
    "        x = self.conv3(x)\n",
    "        x = self.bn3(x)\n",
    "        x = F.relu(x)\n",
    "        x = self.conv4(x)\n",
    "        x = self.bn4(x)\n",
    "        x = F.relu(x)\n",
    "        x = torch.flatten(x, 1)\n",
    "        x = self.fc1(x)\n",
    "        return x"
   ]
  },
  {
   "cell_type": "code",
   "execution_count": 7,
   "metadata": {},
   "outputs": [
    {
     "name": "stderr",
     "output_type": "stream",
     "text": [
      "100%|██████████| 8/8 [00:34<00:00,  4.30s/it]\n",
      "100%|██████████| 8/8 [00:32<00:00,  4.07s/it]\n",
      "100%|██████████| 8/8 [00:32<00:00,  4.02s/it]\n"
     ]
    },
    {
     "name": "stdout",
     "output_type": "stream",
     "text": [
      "Training accuracy: 0.738855\n",
      "Valid    accuracy: 0.713006\n",
      "Testing  accuracy: 0.710686\n"
     ]
    },
    {
     "data": {
      "text/plain": [
       "[<matplotlib.lines.Line2D at 0x24484692340>]"
      ]
     },
     "execution_count": 7,
     "metadata": {},
     "output_type": "execute_result"
    },
    {
     "data": {
      "image/png": "[encoded data removed]",
      "text/plain": [
       "<Figure size 432x288 with 1 Axes>"
      ]
     },
     "metadata": {
      "needs_background": "light"
     },
     "output_type": "display_data"
    }
   ],
   "source": [
    "net = CustomNet5()\n",
    "loss = anneal(net, data['train'], startingLR=0.0043, momentum=0.8348,\n",
    "                           epochsPerLR=8, decay=0.021, numAnnealing=3)\n",
    "\n",
    "print(\"Training accuracy: %f\" % accuracy(net, data['train']))\n",
    "print(\"Valid    accuracy: %f\" % accuracy(net, data['valid']))\n",
    "print(\"Testing  accuracy: %f\" % accuracy(net, data['test']))\n",
    "\n",
    "plt.title('Loss vs Mini-epoch')\n",
    "plt.xlabel('Mini-epoch')\n",
    "plt.ylabel('Loss')\n",
    "plt.plot(smooth(loss, 50))"
   ]
  },
  {
   "cell_type": "code",
   "execution_count": 16,
   "metadata": {},
   "outputs": [],
   "source": [
    "class CustomNet8(nn.Module):\n",
    "    def __init__(self):\n",
    "        super(CustomNet8, self).__init__() # https://pytorch.org/docs/stable/generated/torch.nn.Conv2d.html\n",
    "        # Input 64x64x1 image\n",
    "        # 16 filters\n",
    "        # 3x3 filter size (they also have 3 channels)\n",
    "        # stride 2 (downsampling by factor of 2)\n",
    "        # Output image: 32x32x16\n",
    "        self.conv1 = nn.Conv2d(1, 16, 5, stride=2, padding=1)\n",
    "        self.conv12 = nn.Conv2d(16, 16, 5, stride=1, padding=1)\n",
    "        self.bn1 = nn.BatchNorm2d(16)\n",
    "        # Input 32x32x16 image\n",
    "        # 32 filters\n",
    "        # 3x3x16 filter size (they also have 16 channels)\n",
    "        # stride 2 (downsampling by factor of 2)\n",
    "        # Output image: 16x16x32\n",
    "        self.conv2 = nn.Conv2d(16, 32, 3, stride=2, padding=1)\n",
    "        self.conv22 = nn.Conv2d(32, 32, 3, stride=1, padding=1)\n",
    "        self.bn2 = nn.BatchNorm2d(32)\n",
    "\n",
    "        # Exercise left to the reader\n",
    "        # Output image: 8x8x64 -> 1024 neurons\n",
    "        self.conv3 = nn.Conv2d(32, 64, 3, stride=2, padding=1)\n",
    "        self.conv32 = nn.Conv2d(64, 64, 3, stride=1, padding=1)\n",
    "        self.bn3 = nn.BatchNorm2d(64)\n",
    "        \n",
    "        # Exercise left to the reader\n",
    "        # Output image: 8x8x128 -> 2048 neurons\n",
    "        self.conv4 = nn.Conv2d(64, 128, 3, stride=1, padding=1)\n",
    "        self.bn4 = nn.BatchNorm2d(128)\n",
    "        \n",
    "        self.fc1 = nn.Linear(8192, 14)\n",
    "\n",
    "    def forward(self, x):\n",
    "        x = self.conv1(x)\n",
    "        x = F.relu(x)\n",
    "        x = self.conv12(x)\n",
    "        x = self.bn1(x)\n",
    "        x = F.relu(x)\n",
    "        x = self.conv2(x)\n",
    "        x = F.relu(x)\n",
    "        x = self.conv22(x)\n",
    "        x = self.bn2(x)\n",
    "        x = F.relu(x)\n",
    "        x = self.conv3(x)\n",
    "        x = F.relu(x)\n",
    "        x = self.conv32(x)\n",
    "        x = self.bn3(x)\n",
    "        x = F.relu(x)\n",
    "        x = self.conv4(x)\n",
    "        x = self.bn4(x)\n",
    "        x = F.relu(x)\n",
    "        x = torch.flatten(x, 1)\n",
    "        x = self.fc1(x)\n",
    "        return x"
   ]
  },
  {
   "cell_type": "code",
   "execution_count": 17,
   "metadata": {},
   "outputs": [
    {
     "name": "stderr",
     "output_type": "stream",
     "text": [
      "100%|██████████| 8/8 [00:37<00:00,  4.64s/it]\n",
      "100%|██████████| 8/8 [00:36<00:00,  4.60s/it]\n",
      "100%|██████████| 8/8 [00:37<00:00,  4.64s/it]\n"
     ]
    },
    {
     "name": "stdout",
     "output_type": "stream",
     "text": [
      "Training accuracy: 0.751578\n",
      "Valid    accuracy: 0.712674\n",
      "Testing  accuracy: 0.715240\n"
     ]
    },
    {
     "data": {
      "text/plain": [
       "[<matplotlib.lines.Line2D at 0x2449a251be0>]"
      ]
     },
     "execution_count": 17,
     "metadata": {},
     "output_type": "execute_result"
    },
    {
     "data": {
      "image/png": "[encoded data removed]",
      "text/plain": [
       "<Figure size 432x288 with 1 Axes>"
      ]
     },
     "metadata": {
      "needs_background": "light"
     },
     "output_type": "display_data"
    }
   ],
   "source": [
    "net8 = CustomNet8()\n",
    "loss = anneal(net8, data['train'], startingLR=0.0043, momentum=0.8348,\n",
    "                           epochsPerLR=8, decay=0.021, numAnnealing=3)\n",
    "\n",
    "print(\"Training accuracy: %f\" % accuracy(net8, data['train']))\n",
    "print(\"Valid    accuracy: %f\" % accuracy(net8, data['valid']))\n",
    "print(\"Testing  accuracy: %f\" % accuracy(net8, data['test']))\n",
    "\n",
    "plt.plot(smooth(loss, 50))"
   ]
  },
  {
   "cell_type": "code",
   "execution_count": 14,
   "metadata": {},
   "outputs": [],
   "source": [
    "class CustomNet10(nn.Module):\n",
    "    def __init__(self):\n",
    "        super(CustomNet10, self).__init__() # https://pytorch.org/docs/stable/generated/torch.nn.Conv2d.html\n",
    "        # Input 64x64x1 image\n",
    "        # 16 filters\n",
    "        # 3x3 filter size (they also have 3 channels)\n",
    "        # stride 2 (downsampling by factor of 2)\n",
    "        # Output image: 32x32x16\n",
    "        self.conv1 = nn.Conv2d(1, 16, 5, stride=2, padding=1)\n",
    "        self.bn1 = nn.BatchNorm2d(16)\n",
    "        self.conv12 = nn.Conv2d(16, 16, 5, stride=1, padding=1)\n",
    "        # Input 32x32x16 image\n",
    "        # 32 filters\n",
    "        # 3x3x16 filter size (they also have 16 channels)\n",
    "        # stride 2 (downsampling by factor of 2)\n",
    "        # Output image: 16x16x32\n",
    "        self.conv2 = nn.Conv2d(16, 32, 3, stride=2, padding=1)\n",
    "        self.bn2 = nn.BatchNorm2d(32)\n",
    "        self.conv22 = nn.Conv2d(32, 32, 3, stride=1, padding=1)\n",
    "\n",
    "        # Exercise left to the reader\n",
    "        # Output image: 8x8x64 -> 1024 neurons\n",
    "        self.conv3 = nn.Conv2d(32, 64, 3, stride=2, padding=1)\n",
    "        self.bn3 = nn.BatchNorm2d(64)\n",
    "        self.conv32 = nn.Conv2d(64, 64, 3, stride=1, padding=1)\n",
    "        \n",
    "        # Exercise left to the reader\n",
    "        # Output image: 8x8x128 -> 2048 neurons\n",
    "        self.conv4 = nn.Conv2d(64, 128, 3, stride=1, padding=1)\n",
    "        self.bn4 = nn.BatchNorm2d(128)\n",
    "        \n",
    "        self.fc1 = nn.Linear(8192, 8192)\n",
    "        self.fc2 = nn.Linear(8192, 8192)\n",
    "        self.fc3 = nn.Linear(8192, 14)\n",
    "\n",
    "    def forward(self, x):\n",
    "        x = self.conv1(x)\n",
    "        x = F.relu(x)\n",
    "        x = self.conv12(x)\n",
    "        x = self.bn1(x)\n",
    "        x = F.relu(x)\n",
    "        x = self.conv2(x)\n",
    "        x = F.relu(x)\n",
    "        x = self.conv22(x)\n",
    "        x = self.bn2(x)\n",
    "        x = F.relu(x)\n",
    "        x = self.conv3(x)\n",
    "        x = F.relu(x)\n",
    "        x = self.conv32(x)\n",
    "        x = self.bn3(x)\n",
    "        x = F.relu(x)\n",
    "        x = self.conv4(x)\n",
    "        x = self.bn4(x)\n",
    "        x = F.relu(x)\n",
    "        x = torch.flatten(x, 1)\n",
    "        x = self.fc1(x)\n",
    "        x = self.fc2(x)\n",
    "        x = self.fc3(x)\n",
    "        return x"
   ]
  },
  {
   "cell_type": "code",
   "execution_count": 18,
   "metadata": {},
   "outputs": [
    {
     "name": "stderr",
     "output_type": "stream",
     "text": [
      "100%|██████████| 8/8 [01:29<00:00, 11.23s/it]\n",
      "100%|██████████| 8/8 [01:30<00:00, 11.33s/it]\n",
      "100%|██████████| 8/8 [01:34<00:00, 11.79s/it]\n"
     ]
    },
    {
     "name": "stdout",
     "output_type": "stream",
     "text": [
      "Training accuracy: 0.738485\n",
      "Valid    accuracy: 0.720637\n",
      "Testing  accuracy: 0.717668\n"
     ]
    },
    {
     "data": {
      "text/plain": [
       "[<matplotlib.lines.Line2D at 0x2449a2dd3a0>]"
      ]
     },
     "execution_count": 18,
     "metadata": {},
     "output_type": "execute_result"
    },
    {
     "data": {
      "image/png": "[encoded data removed]",
      "text/plain": [
       "<Figure size 432x288 with 1 Axes>"
      ]
     },
     "metadata": {
      "needs_background": "light"
     },
     "output_type": "display_data"
    }
   ],
   "source": [
    "net10 = CustomNet10()\n",
    "loss = anneal(net10, data['train'], startingLR=0.0043, momentum=0.8348,\n",
    "                           epochsPerLR=8, decay=0.021, numAnnealing=3)\n",
    "\n",
    "print(\"Training accuracy: %f\" % accuracy(net10, data['train']))\n",
    "print(\"Valid    accuracy: %f\" % accuracy(net10, data['valid']))\n",
    "print(\"Testing  accuracy: %f\" % accuracy(net10, data['test']))\n",
    "\n",
    "plt.plot(smooth(loss, 50))"
   ]
  },
  {
   "cell_type": "code",
   "execution_count": null,
   "metadata": {},
   "outputs": [],
   "source": []
  }
 ],
 "metadata": {
  "kernelspec": {
   "display_name": "Python 3",
   "language": "python",
   "name": "python3"
  },
  "language_info": {
   "codemirror_mode": {
    "name": "ipython",
    "version": 3
   },
   "file_extension": ".py",
   "mimetype": "text/x-python",
   "name": "python",
   "nbconvert_exporter": "python",
   "pygments_lexer": "ipython3",
   "version": "3.8.5"
  }
 },
 "nbformat": 4,
 "nbformat_minor": 4
}
