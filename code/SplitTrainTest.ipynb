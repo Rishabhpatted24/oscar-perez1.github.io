{
 "cells": [
  {
   "cell_type": "code",
   "execution_count": 8,
   "metadata": {},
   "outputs": [],
   "source": [
    "import numpy as np\n",
    "import pandas as pd\n",
    "import os\n",
    "import pickle\n",
    "from tqdm import tqdm\n",
    "import shutil\n",
    "import random"
   ]
  },
  {
   "cell_type": "code",
   "execution_count": 12,
   "metadata": {},
   "outputs": [],
   "source": [
    "# location for the original set that is being split up\n",
    "orig_dir = r'train'\n",
    "all_images = os.listdir(orig_dir)\n",
    "\n",
    "# location for the new set\n",
    "# you can add m\n",
    "new_dest_dir = r'newCNNData' \n",
    "new_train_dir = os.path.join(new_dest_dir, 'train')\n",
    "new_valid_dir = os.path.join(new_dest_dir, 'valid')\n",
    "\n",
    "orig_labels = pd.read_csv(r'train.csv', index_col=1)\n",
    "\n",
    "os.makedirs(new_dest_dir)\n",
    "os.makedirs(new_train_dir)\n",
    "os.makedirs(new_valid_dir)"
   ]
  },
  {
   "cell_type": "code",
   "execution_count": 13,
   "metadata": {},
   "outputs": [
    {
     "name": "stderr",
     "output_type": "stream",
     "text": [
      "100%|██████████████████████████████████████████████████████████████████████████| 32802/32802 [00:10<00:00, 3068.82it/s]\n"
     ]
    }
   ],
   "source": [
    "train_rows = []\n",
    "valid_rows = []\n",
    "for image in tqdm(all_images):\n",
    "    randNum = random.randint(0,10)\n",
    "    class_name = orig_labels._get_value(image, 'class_name')\n",
    "    class_id = orig_labels._get_value(image, 'class_id')\n",
    "    this_row = train_rows\n",
    "    dest_dir = new_train_dir\n",
    "    if randNum == 0:\n",
    "        this_row = valid_rows\n",
    "        dest_dir = new_valid_dir\n",
    "    new_row = [image, class_name, class_id]\n",
    "    this_row.append(new_row)\n",
    "    shutil.copy(os.path.join(orig_dir, image), dest_dir)\n",
    "\n",
    "columns = ['image_id', 'class_name', 'class_id']\n",
    "train_df = pd.DataFrame(train_rows, columns=columns)\n",
    "train_df.to_csv(os.path.join(new_dest_dir, 'train.csv'))\n",
    "valid_df = pd.DataFrame(valid_rows, columns=columns)\n",
    "valid_df.to_csv(os.path.join(new_dest_dir, 'valid.csv'))\n"
   ]
  },
  {
   "cell_type": "code",
   "execution_count": null,
   "metadata": {},
   "outputs": [],
   "source": []
  }
 ],
 "metadata": {
  "kernelspec": {
   "display_name": "Python 3",
   "language": "python",
   "name": "python3"
  },
  "language_info": {
   "codemirror_mode": {
    "name": "ipython",
    "version": 3
   },
   "file_extension": ".py",
   "mimetype": "text/x-python",
   "name": "python",
   "nbconvert_exporter": "python",
   "pygments_lexer": "ipython3",
   "version": "3.8.5"
  }
 },
 "nbformat": 4,
 "nbformat_minor": 4
}
