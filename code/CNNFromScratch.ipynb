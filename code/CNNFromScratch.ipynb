{
 "cells": [
  {
   "cell_type": "code",
   "execution_count": 1,
   "metadata": {},
   "outputs": [],
   "source": [
    "import torch\n",
    "import torch.nn as nn\n",
    "import torch.nn.functional as F\n",
    "import torch.optim as optim\n",
    "from torch.utils.data import Dataset, DataLoader\n",
    "import pandas as pd\n",
    "import os\n",
    "import pickle\n",
    "import matplotlib.pyplot as plt\n",
    "from tqdm import tqdm\n",
    "import numpy as np\n",
    "import cv2\n",
    "import random"
   ]
  },
  {
   "cell_type": "code",
   "execution_count": 2,
   "metadata": {},
   "outputs": [],
   "source": [
    "def get_random_crop(image, crop_height, crop_width):\n",
    "    \n",
    "    max_x = image.shape[1] - crop_width\n",
    "    max_y = image.shape[0] - crop_height\n",
    "    \n",
    "    x = np.random.randint(0, max_x)\n",
    "    y = np.random.randint(0, max_y)\n",
    "\n",
    "    crop = image[y: y + crop_height, x: x + crop_width]\n",
    "\n",
    "    return crop"
   ]
  },
  {
   "cell_type": "code",
   "execution_count": 3,
   "metadata": {},
   "outputs": [],
   "source": [
    "class XRayCNNDataset(Dataset):\n",
    "    # root_dir example: r'D:xray/cnn/train'\n",
    "    # annotation_file example: r'train.csv'\n",
    "    def __init__(self, root_dir, annotation_file, augment=0):\n",
    "        self.root_dir = root_dir\n",
    "        self.annotations = pd.read_csv(annotation_file)\n",
    "        self.augment = augment\n",
    "    \n",
    "    def __len__(self):\n",
    "        return len(self.annotations)\n",
    "    \n",
    "    def __getitem__(self, index):\n",
    "        file_name = self.annotations._get_value(index, 'image_id')\n",
    "        label = self.annotations._get_value(index, 'class_id')\n",
    "        file = open(os.path.join(self.root_dir, file_name), 'rb')\n",
    "#         img = pickle.load(file)\n",
    "#         img = cv2.resize(img, dsize=(32, 32), interpolation=cv2.INTER_CUBIC)\n",
    "#         img = np.array([img.copy(), img.copy(), img.copy()])\n",
    "        img = pickle.load(file)\n",
    "        if self.augment == 1:\n",
    "            if random.random() < 0.5:\n",
    "                np.fliplr(img)\n",
    "            if random.random() < 0.5:\n",
    "                img = cv2.copyMakeBorder(img, 4, 4, 4, 4, cv2.BORDER_REFLECT)\n",
    "                img = get_random_crop(img, 64, 64)\n",
    "        img = np.array([img])\n",
    "\n",
    "        file.close()\n",
    "        img = img.astype('float32')\n",
    "        return (img, label)"
   ]
  },
  {
   "cell_type": "code",
   "execution_count": 4,
   "metadata": {},
   "outputs": [],
   "source": [
    "def get_data(batch_size=128):\n",
    "    trainset = XRayCNNDataset(r'newTrain', 'newTrain.csv', augment=1)\n",
    "    trainloader  = DataLoader(trainset, batch_size=batch_size, shuffle=True)\n",
    "    \n",
    "    vset = XRayCNNDataset(r'valid', 'valid.csv')\n",
    "    vloader  = DataLoader(vset, batch_size=batch_size, shuffle=False)\n",
    "    \n",
    "    testset = XRayCNNDataset(r'test', 'test.csv')\n",
    "    testloader  = DataLoader(testset, batch_size=batch_size, shuffle=False)\n",
    "    \n",
    "    classes = ['Aortic enlargement', 'Atelectasis', 'Calcification', 'Cardiomegaly',\n",
    "               'Consolidation', 'ILD', 'Inflitration', 'Lung Opacity', 'Nodule/Mass', 'Other lesion',\n",
    "               'Pleural effusion', 'Pleural thickening', 'Pneumothorax', 'Pulmonary fibrosis']\n",
    "    return {'train': trainloader, 'test': testloader, 'valid': vloader, 'classes': classes}\n",
    "\n",
    "device = torch.device(\"cuda:0\" if torch.cuda.is_available() else \"cpu\")\n",
    "data = get_data()"
   ]
  },
  {
   "cell_type": "code",
   "execution_count": 5,
   "metadata": {},
   "outputs": [],
   "source": [
    "def train(net, dataloader, epochs=1, lr=0.01, momentum=0.9, decay=0.0, verbose=0):\n",
    "    net.to(device)\n",
    "    losses = []\n",
    "    criterion = nn.CrossEntropyLoss()\n",
    "    optimizer = optim.SGD(net.parameters(), lr=lr, momentum=momentum, weight_decay=decay)\n",
    "    for epoch in tqdm(range(epochs)):\n",
    "        sum_loss = 0.0\n",
    "        for i, batch in enumerate(dataloader, 0):\n",
    "            # get the inputs; data is a list of [inputs, labels]\n",
    "            inputs, labels = batch[0].to(device), batch[1].to(device)\n",
    "            # zero the parameter gradients\n",
    "            optimizer.zero_grad()\n",
    "\n",
    "            # forward + backward + optimize \n",
    "            outputs = net(inputs)\n",
    "            loss = criterion(outputs, labels)\n",
    "            loss.backward()  # autograd magic, computes all the partial derivatives\n",
    "            optimizer.step() # takes a step in gradient direction\n",
    "\n",
    "            # print statistics\n",
    "            losses.append(loss.item())\n",
    "            sum_loss += loss.item()\n",
    "            if i % 100 == 99:    # print every 100 mini-batches\n",
    "                if verbose:\n",
    "                    print('[%d, %5d] loss: %.3f' %\n",
    "                        (epoch + 1, i + 1, sum_loss / 100))\n",
    "                sum_loss = 0.0\n",
    "    return losses\n",
    "\n",
    "def accuracy(net, dataloader):\n",
    "    correct = 0\n",
    "    total = 0\n",
    "    with torch.no_grad():\n",
    "        for batch in dataloader:\n",
    "            images, labels = batch[0].to(device), batch[1].to(device)\n",
    "            outputs = net(images)\n",
    "            _, predicted = torch.max(outputs.data, 1)\n",
    "            total += labels.size(0)\n",
    "            correct += (predicted == labels).sum().item()\n",
    "    return correct/total\n",
    "\n",
    "def smooth(x, size):\n",
    "    return np.convolve(x, np.ones(size)/size, mode='valid')"
   ]
  },
  {
   "cell_type": "code",
   "execution_count": 6,
   "metadata": {},
   "outputs": [],
   "source": [
    "def anneal(net, data, startingLR=0.001, epochsPerLR=10, momentum=0.9, decay=0.0, numAnnealing=3, verbose=0):\n",
    "    losses = []\n",
    "    lr = startingLR\n",
    "    for i in range(numAnnealing):\n",
    "        losses += train(net, data, epochsPerLR, lr=lr, momentum=momentum, decay=decay, verbose=verbose)\n",
    "        lr /= 10\n",
    "    return losses"
   ]
  },
  {
   "cell_type": "code",
   "execution_count": 7,
   "metadata": {},
   "outputs": [],
   "source": [
    "class SimpleNet(nn.Module):\n",
    "    def __init__(self, inputs=4096, hidden=512, outputs=14):\n",
    "        super(SimpleNet, self).__init__()\n",
    "        self.fc1 = nn.Linear(inputs, hidden)\n",
    "        self.fc2 = nn.Linear(hidden, outputs)\n",
    "\n",
    "    def forward(self, x):\n",
    "        x = torch.flatten(x, 1) # Takes image-like to vector-like\n",
    "        x = self.fc1(x)\n",
    "        x = F.relu(x)\n",
    "        x = self.fc2(x)\n",
    "        return x"
   ]
  },
  {
   "cell_type": "code",
   "execution_count": 8,
   "metadata": {},
   "outputs": [
    {
     "name": "stderr",
     "output_type": "stream",
     "text": [
      "100%|██████████| 15/15 [00:50<00:00,  3.38s/it]\n"
     ]
    },
    {
     "name": "stdout",
     "output_type": "stream",
     "text": [
      "Training accuracy: 0.197596\n",
      "Valid    accuracy: 0.210352\n",
      "Testing  accuracy: 0.194900\n"
     ]
    },
    {
     "data": {
      "text/plain": [
       "[<matplotlib.lines.Line2D at 0x270859ae310>]"
      ]
     },
     "execution_count": 8,
     "metadata": {},
     "output_type": "execute_result"
    },
    {
     "data": {
      "image/png": "[encoded data removed]",
      "text/plain": [
       "<Figure size 432x288 with 1 Axes>"
      ]
     },
     "metadata": {
      "needs_background": "light"
     },
     "output_type": "display_data"
    }
   ],
   "source": [
    "simple_net = SimpleNet(inputs=4096)\n",
    "\n",
    "losses = train(simple_net, data['train'], epochs=15, lr=.001, decay=0.025, verbose=0)\n",
    "\n",
    "print(\"Training accuracy: %f\" % accuracy(simple_net, data['train']))\n",
    "print(\"Valid    accuracy: %f\" % accuracy(simple_net, data['valid']))\n",
    "print(\"Testing  accuracy: %f\" % accuracy(simple_net, data['test']))\n",
    "plt.title('Loss vs Mini-epoch')\n",
    "plt.xlabel('Mini-epoch')\n",
    "plt.ylabel('Loss')\n",
    "plt.plot(smooth(losses,50))"
   ]
  },
  {
   "cell_type": "code",
   "execution_count": 9,
   "metadata": {},
   "outputs": [],
   "source": [
    "class ConvNet(nn.Module):\n",
    "    def __init__(self):\n",
    "        super(ConvNet, self).__init__() # https://pytorch.org/docs/stable/generated/torch.nn.Conv2d.html\n",
    "        # Input 64x64x1 image\n",
    "        # 16 filters\n",
    "        # 3x3 filter size (they also have 3 channels)\n",
    "        # stride 2 (downsampling by factor of 2)\n",
    "        # Output image: 32x32x16\n",
    "        self.conv1 = nn.Conv2d(1, 16, 5, stride=2, padding=1)\n",
    "\n",
    "        # Input 32x32x16 image\n",
    "        # 32 filters\n",
    "        # 3x3x16 filter size (they also have 16 channels)\n",
    "        # stride 2 (downsampling by factor of 2)\n",
    "        # Output image: 16x16x32\n",
    "        self.conv2 = nn.Conv2d(16, 32, 3, stride=2, padding=1)\n",
    "\n",
    "\n",
    "        # Exercise left to the reader\n",
    "        # Output image: 4x4x64 -> 4096 neurons\n",
    "        self.conv3 = nn.Conv2d(32, 64, 3, stride=2, padding=1)\n",
    "\n",
    "        self.fc1 = nn.Linear(4096, 14)\n",
    "\n",
    "    def forward(self, x):\n",
    "        x = self.conv1(x)\n",
    "        x = F.relu(x)\n",
    "        x = self.conv2(x)\n",
    "        x = F.relu(x)\n",
    "        x = self.conv3(x)\n",
    "        x = F.relu(x)\n",
    "        x = torch.flatten(x, 1)\n",
    "        x = self.fc1(x)\n",
    "        return x"
   ]
  },
  {
   "cell_type": "code",
   "execution_count": 10,
   "metadata": {},
   "outputs": [
    {
     "name": "stderr",
     "output_type": "stream",
     "text": [
      "100%|██████████| 15/15 [01:02<00:00,  4.15s/it]\n"
     ]
    },
    {
     "name": "stdout",
     "output_type": "stream",
     "text": [
      "Training accuracy: 0.656875\n",
      "Valid    accuracy: 0.650299\n",
      "Testing  accuracy: 0.641166\n"
     ]
    },
    {
     "data": {
      "text/plain": [
       "[<matplotlib.lines.Line2D at 0x27082fcee80>]"
      ]
     },
     "execution_count": 10,
     "metadata": {},
     "output_type": "execute_result"
    },
    {
     "data": {
      "image/png": "[encoded data removed]",
      "text/plain": [
       "<Figure size 432x288 with 1 Axes>"
      ]
     },
     "metadata": {
      "needs_background": "light"
     },
     "output_type": "display_data"
    }
   ],
   "source": [
    "conv_net = ConvNet()\n",
    "\n",
    "conv_losses = train(conv_net, data['train'], epochs=15, lr=.001, decay=0.025, verbose=0)\n",
    "\n",
    "print(\"Training accuracy: %f\" % accuracy(conv_net, data['train']))\n",
    "print(\"Valid    accuracy: %f\" % accuracy(conv_net, data['valid']))\n",
    "print(\"Testing  accuracy: %f\" % accuracy(conv_net, data['test']))\n",
    "plt.title('Loss vs Mini-epoch')\n",
    "plt.xlabel('Mini-epoch')\n",
    "plt.ylabel('Loss')\n",
    "plt.plot(smooth(conv_losses,50))"
   ]
  },
  {
   "cell_type": "code",
   "execution_count": 11,
   "metadata": {},
   "outputs": [],
   "source": [
    "class ConvBNNet(nn.Module):\n",
    "    def __init__(self):\n",
    "        super(ConvBNNet, self).__init__() # https://pytorch.org/docs/stable/generated/torch.nn.Conv2d.html\n",
    "        # Input 64x64x1 image\n",
    "        # 16 filters\n",
    "        # 3x3 filter size (they also have 3 channels)\n",
    "        # stride 2 (downsampling by factor of 2)\n",
    "        # Output image: 32x32x16\n",
    "        self.conv1 = nn.Conv2d(1, 16, 5, stride=2, padding=1)\n",
    "        self.bn1 = nn.BatchNorm2d(16)\n",
    "        # Input 32x32x16 image\n",
    "        # 32 filters\n",
    "        # 3x3x16 filter size (they also have 16 channels)\n",
    "        # stride 2 (downsampling by factor of 2)\n",
    "        # Output image: 16x16x32\n",
    "        self.conv2 = nn.Conv2d(16, 32, 3, stride=2, padding=1)\n",
    "        self.bn2 = nn.BatchNorm2d(32)\n",
    "\n",
    "        # Exercise left to the reader\n",
    "        # Output image: 4x4x64 -> 1024 neurons\n",
    "        self.conv3 = nn.Conv2d(32, 64, 3, stride=2, padding=1)\n",
    "        self.bn3 = nn.BatchNorm2d(64)\n",
    "        \n",
    "        self.fc1 = nn.Linear(4096, 14)\n",
    "\n",
    "    def forward(self, x):\n",
    "        x = self.conv1(x)\n",
    "        x = self.bn1(x)\n",
    "        x = F.relu(x)\n",
    "        x = self.conv2(x)\n",
    "        x = self.bn2(x)\n",
    "        x = F.relu(x)\n",
    "        x = self.conv3(x)\n",
    "        x = self.bn3(x)\n",
    "        x = F.relu(x)\n",
    "        x = torch.flatten(x, 1)\n",
    "        x = self.fc1(x)\n",
    "        return x"
   ]
  },
  {
   "cell_type": "code",
   "execution_count": 12,
   "metadata": {},
   "outputs": [
    {
     "name": "stderr",
     "output_type": "stream",
     "text": [
      "100%|██████████| 15/15 [01:10<00:00,  4.68s/it]\n"
     ]
    },
    {
     "name": "stdout",
     "output_type": "stream",
     "text": [
      "Training accuracy: 0.697932\n",
      "Valid    accuracy: 0.688454\n",
      "Testing  accuracy: 0.689132\n"
     ]
    },
    {
     "data": {
      "text/plain": [
       "[<matplotlib.lines.Line2D at 0x2708300b5e0>]"
      ]
     },
     "execution_count": 12,
     "metadata": {},
     "output_type": "execute_result"
    },
    {
     "data": {
      "image/png": "[encoded data removed]",
      "text/plain": [
       "<Figure size 432x288 with 1 Axes>"
      ]
     },
     "metadata": {
      "needs_background": "light"
     },
     "output_type": "display_data"
    }
   ],
   "source": [
    "convb_net = ConvBNNet()\n",
    "\n",
    "convb_losses = train(convb_net, data['train'], epochs=15, lr=.001, decay=0.025)\n",
    "\n",
    "print(\"Training accuracy: %f\" % accuracy(convb_net, data['train']))\n",
    "print(\"Valid    accuracy: %f\" % accuracy(convb_net, data['valid']))\n",
    "print(\"Testing  accuracy: %f\" % accuracy(convb_net, data['test']))\n",
    "\n",
    "plt.title('Loss vs Mini-epoch')\n",
    "plt.xlabel('Mini-epoch')\n",
    "plt.ylabel('Loss')\n",
    "plt.plot(smooth(convb_losses, 50))"
   ]
  },
  {
   "cell_type": "code",
   "execution_count": 13,
   "metadata": {},
   "outputs": [
    {
     "name": "stderr",
     "output_type": "stream",
     "text": [
      "100%|██████████| 8/8 [00:27<00:00,  3.39s/it]\n",
      "100%|██████████| 8/8 [00:26<00:00,  3.35s/it]\n",
      "100%|██████████| 8/8 [00:26<00:00,  3.36s/it]\n"
     ]
    },
    {
     "name": "stdout",
     "output_type": "stream",
     "text": [
      "Training accuracy: 0.197596\n",
      "Valid    accuracy: 0.210352\n",
      "Testing  accuracy: 0.194900\n"
     ]
    },
    {
     "data": {
      "text/plain": [
       "[<matplotlib.lines.Line2D at 0x27085e8c790>]"
      ]
     },
     "execution_count": 13,
     "metadata": {},
     "output_type": "execute_result"
    },
    {
     "data": {
      "image/png": "[encoded data removed]",
      "text/plain": [
       "<Figure size 432x288 with 1 Axes>"
      ]
     },
     "metadata": {
      "needs_background": "light"
     },
     "output_type": "display_data"
    }
   ],
   "source": [
    "simple_anneal_net = SimpleNet()\n",
    "simple_anneal_losses = anneal(simple_anneal_net, data['train'], startingLR=0.01, epochsPerLR=8, decay=0.1, numAnnealing=3, verbose=0)\n",
    "\n",
    "print(\"Training accuracy: %f\" % accuracy(simple_anneal_net, data['train']))\n",
    "print(\"Valid    accuracy: %f\" % accuracy(simple_anneal_net, data['valid']))\n",
    "print(\"Testing  accuracy: %f\" % accuracy(simple_anneal_net, data['test']))\n",
    "\n",
    "plt.title('Loss vs Mini-epoch')\n",
    "plt.xlabel('Mini-epoch')\n",
    "plt.ylabel('Loss')\n",
    "plt.plot(smooth(simple_anneal_losses, 50))"
   ]
  },
  {
   "cell_type": "code",
   "execution_count": 14,
   "metadata": {},
   "outputs": [
    {
     "name": "stderr",
     "output_type": "stream",
     "text": [
      "100%|██████████| 8/8 [00:34<00:00,  4.36s/it]\n",
      "100%|██████████| 8/8 [00:34<00:00,  4.36s/it]\n",
      "100%|██████████| 8/8 [00:45<00:00,  5.63s/it]\n"
     ]
    },
    {
     "name": "stdout",
     "output_type": "stream",
     "text": [
      "Training accuracy: 0.680744\n",
      "Conv    accuracy: 0.662243\n",
      "Testing  accuracy: 0.663631\n"
     ]
    },
    {
     "data": {
      "text/plain": [
       "[<matplotlib.lines.Line2D at 0x27086c057f0>]"
      ]
     },
     "execution_count": 14,
     "metadata": {},
     "output_type": "execute_result"
    },
    {
     "data": {
      "image/png": "[encoded data removed]",
      "text/plain": [
       "<Figure size 432x288 with 1 Axes>"
      ]
     },
     "metadata": {
      "needs_background": "light"
     },
     "output_type": "display_data"
    }
   ],
   "source": [
    "conv_anneal_net = ConvNet()\n",
    "conv_anneal_losses = anneal(conv_anneal_net, data['train'], startingLR=0.001, epochsPerLR=8, decay=0.005, numAnnealing=3, verbose=0)\n",
    "\n",
    "print(\"Training accuracy: %f\" % accuracy(conv_anneal_net, data['train']))\n",
    "print(\"Conv    accuracy: %f\" % accuracy(conv_anneal_net, data['valid']))\n",
    "print(\"Testing  accuracy: %f\" % accuracy(conv_anneal_net, data['test']))\n",
    "plt.title('Loss vs Mini-epoch')\n",
    "plt.xlabel('Mini-epoch')\n",
    "plt.ylabel('Loss')\n",
    "plt.plot(smooth(conv_anneal_losses,50))\n",
    "\n"
   ]
  },
  {
   "cell_type": "code",
   "execution_count": 15,
   "metadata": {},
   "outputs": [
    {
     "name": "stderr",
     "output_type": "stream",
     "text": [
      "100%|██████████| 8/8 [00:53<00:00,  6.69s/it]\n",
      "100%|██████████| 8/8 [00:54<00:00,  6.76s/it]\n",
      "100%|██████████| 8/8 [00:53<00:00,  6.66s/it]\n"
     ]
    },
    {
     "name": "stdout",
     "output_type": "stream",
     "text": [
      "Training accuracy: 0.693333\n",
      "Valid    accuracy: 0.687459\n",
      "Testing  accuracy: 0.676685\n"
     ]
    },
    {
     "data": {
      "text/plain": [
       "[<matplotlib.lines.Line2D at 0x270867d8070>]"
      ]
     },
     "execution_count": 15,
     "metadata": {},
     "output_type": "execute_result"
    },
    {
     "data": {
      "image/png": "[encoded data removed]",
      "text/plain": [
       "<Figure size 432x288 with 1 Axes>"
      ]
     },
     "metadata": {
      "needs_background": "light"
     },
     "output_type": "display_data"
    }
   ],
   "source": [
    "convb_anneal_net = ConvBNNet()\n",
    "convb_anneal_loss = anneal(convb_anneal_net, data['train'], startingLR=0.001, epochsPerLR=8, decay=0.025, numAnnealing=3)\n",
    "\n",
    "print(\"Training accuracy: %f\" % accuracy(convb_anneal_net, data['train']))\n",
    "print(\"Valid    accuracy: %f\" % accuracy(convb_anneal_net, data['valid']))\n",
    "print(\"Testing  accuracy: %f\" % accuracy(convb_anneal_net, data['test']))\n",
    "plt.title('Loss vs Mini-epoch')\n",
    "plt.xlabel('Mini-epoch')\n",
    "plt.ylabel('Loss')\n",
    "plt.plot(smooth(convb_anneal_loss,50))"
   ]
  },
  {
   "cell_type": "code",
   "execution_count": null,
   "metadata": {},
   "outputs": [],
   "source": []
  }
 ],
 "metadata": {
  "kernelspec": {
   "display_name": "Python 3",
   "language": "python",
   "name": "python3"
  },
  "language_info": {
   "codemirror_mode": {
    "name": "ipython",
    "version": 3
   },
   "file_extension": ".py",
   "mimetype": "text/x-python",
   "name": "python",
   "nbconvert_exporter": "python",
   "pygments_lexer": "ipython3",
   "version": "3.8.5"
  }
 },
 "nbformat": 4,
 "nbformat_minor": 4
}
