{
 "cells": [
  {
   "cell_type": "code",
   "execution_count": 1,
   "metadata": {},
   "outputs": [],
   "source": [
    "import numpy as np\n",
    "import pandas as pd\n",
    "import os\n",
    "import pydicom as pdcm\n",
    "import matplotlib.pylab as plt\n",
    "from pydicom.pixel_data_handlers.util import apply_voi_lut\n",
    "import cv2\n",
    "import pickle\n",
    "from tqdm import tqdm"
   ]
  },
  {
   "cell_type": "code",
   "execution_count": 2,
   "metadata": {},
   "outputs": [],
   "source": [
    "train_dir = r'train'\n",
    "train_images = os.listdir(train_dir)\n",
    "\n",
    "train_labels = pd.read_csv(r'train.csv', index_col=0)"
   ]
  },
  {
   "cell_type": "code",
   "execution_count": 3,
   "metadata": {},
   "outputs": [],
   "source": [
    "def CLAHE(image):\n",
    "    clahe = cv2.createCLAHE(\n",
    "        clipLimit = 2., \n",
    "        tileGridSize = (10, 10)\n",
    "    )\n",
    "    \n",
    "    image = clahe.apply(image) \n",
    "    image = np.expand_dims(image, axis = 2)\n",
    "    \n",
    "    return image"
   ]
  },
  {
   "cell_type": "code",
   "execution_count": 4,
   "metadata": {},
   "outputs": [
    {
     "name": "stderr",
     "output_type": "stream",
     "text": [
      "100%|██████████████████████████████████████████████████████████████████████████| 15000/15000 [1:19:41<00:00,  3.14it/s]\n"
     ]
    }
   ],
   "source": [
    "rows = []\n",
    "count = 0\n",
    "\n",
    "cnn_data_path = r'cnnData'\n",
    "os.makedirs(cnn_data_path)\n",
    "\n",
    "\n",
    "for patient in tqdm(train_images):\n",
    "    # get the name of the file\n",
    "    name = patient[:len(patient)-6]\n",
    "    # create the path\n",
    "    path = os.path.join(train_dir, patient)\n",
    "    dicom_file = pdcm.dcmread(path)\n",
    "    # process the root image\n",
    "    img = apply_voi_lut(dicom_file.pixel_array, dicom_file)\n",
    "    if dicom_file.PhotometricInterpretation == \"MONOCHROME1\":\n",
    "        img = np.amax(img) - img\n",
    "    # rescale pixel value between 0 to 255\n",
    "    img = (((img - np.min(img))/np.max(img))*255.0).astype(np.uint8)\n",
    "    img = CLAHE(img)\n",
    "    \n",
    "    # get fields\n",
    "    class_names = train_labels._get_value(name, 'class_name')\n",
    "    class_ids = train_labels._get_value(name, 'class_id')\n",
    "    x_mins = train_labels._get_value(name, 'x_min')\n",
    "    y_mins = train_labels._get_value(name, 'y_min')\n",
    "    x_maxs = train_labels._get_value(name, 'x_max')\n",
    "    y_maxs = train_labels._get_value(name, 'y_max')\n",
    "    for i in range(len(class_names)):\n",
    "        class_id = class_ids[i]\n",
    "        if class_id != 14:\n",
    "            pickle_name = 'cnn' + str(count) + '.data'\n",
    "            class_name = class_names[i]\n",
    "            x_min = int(x_mins[i])\n",
    "            y_min = int(y_mins[i])\n",
    "            x_max = int(x_maxs[i])\n",
    "            y_max = int(y_maxs[i])\n",
    "            newImg = img[y_min:y_max, x_min:x_max]\n",
    "            newImg = cv2.resize(newImg, dsize=(64,64), interpolation=cv2.INTER_CUBIC)\n",
    "\n",
    "\n",
    "            imgFile = open(os.path.join(cnn_data_path, pickle_name), 'wb')\n",
    "            pickle.dump(newImg, imgFile)\n",
    "            imgFile.close()\n",
    "\n",
    "            rows.append([pickle_name, class_name, class_id])\n",
    "\n",
    "            count += 1\n",
    "columns = ['image_id', 'class_name', 'class_id']\n",
    "cnn_data = pd.DataFrame(rows, columns=columns)\n",
    "cnn_data.to_csv('cnn_data.csv', index=False)"
   ]
  },
  {
   "cell_type": "code",
   "execution_count": null,
   "metadata": {},
   "outputs": [],
   "source": []
  }
 ],
 "metadata": {
  "kernelspec": {
   "display_name": "Python 3",
   "language": "python",
   "name": "python3"
  },
  "language_info": {
   "codemirror_mode": {
    "name": "ipython",
    "version": 3
   },
   "file_extension": ".py",
   "mimetype": "text/x-python",
   "name": "python",
   "nbconvert_exporter": "python",
   "pygments_lexer": "ipython3",
   "version": "3.8.5"
  }
 },
 "nbformat": 4,
 "nbformat_minor": 4
}
